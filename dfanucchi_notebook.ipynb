{
 "cells": [
  {
   "cell_type": "markdown",
   "metadata": {},
   "source": []
  },
  {
   "cell_type": "code",
   "execution_count": 20,
   "metadata": {},
   "outputs": [],
   "source": [
    "# import necessary libraries\n",
    "\n",
    "import pandas as pd\n",
    "import numpy as np\n",
    "import seaborn as sns\n",
    "import matplotlib.pyplot as plt\n",
    "%matplotlib inline\n",
    "import matplotlib as mpl\n",
    "mpl.rcParams['figure.facecolor'] = 'lightgray'\n",
    "\n",
    "\n",
    "import warnings\n",
    "warnings.filterwarnings('ignore')"
   ]
  },
  {
   "cell_type": "code",
   "execution_count": 21,
   "metadata": {},
   "outputs": [
    {
     "name": "stdout",
     "output_type": "stream",
     "text": [
      "Training set contains 213451 users, and the testing dataset contains 62096, giving a grand total of 275547 users.\n"
     ]
    }
   ],
   "source": [
    "# loading datasets\n",
    "\n",
    "df_train_users = pd.read_csv(\"airbnb-recruiting-new-user-bookings/train_users_2.csv\") # training dataset\n",
    "df_test_users = pd.read_csv(\"airbnb-recruiting-new-user-bookings/test_users.csv\") # testing dataset\n",
    "df_countries = pd.read_csv(\"airbnb-recruiting-new-user-bookings/countries.csv\")\n",
    "df_age_gender = pd.read_csv('airbnb-recruiting-new-user-bookings/age_gender_bkts.csv')\n",
    "df_sessions = pd.read_csv('airbnb-recruiting-new-user-bookings/sessions.csv')\n",
    "\n",
    "# df_train_users.shape, df_test_users.shape, df_countries.shape, df_age_gender.shape, df_sessions.shape\n",
    "print(f'Training set contains {df_train_users.shape[0]} users, ' \n",
    "      + f'and the testing dataset contains {df_test_users.shape[0]}, '\n",
    "      + f'giving a grand total of {df_train_users.shape[0] + df_test_users.shape[0]} users.')"
   ]
  },
  {
   "cell_type": "code",
   "execution_count": null,
   "metadata": {},
   "outputs": [],
   "source": [
    "# combining train and test datasets (Unecessary)\n",
    "# all_users = pd.concat((df_train_users, df_test_users), axis=0, ignore_index=True)\n",
    "\n",
    "# all_users.head()\n",
    "\n",
    "df_train_users.head()"
   ]
  },
  {
   "cell_type": "code",
   "execution_count": null,
   "metadata": {},
   "outputs": [],
   "source": [
    "# [print(f\"{col} has {all_users[col].isnull().sum()} null values.\", end='\\n\\n') for col in all_users.columns if all_users[col].isnull().sum() != 0]\n",
    "\n",
    "[print(f\"{col} has {df_train_users[col].isnull().sum()} null values.\", end='\\n\\n') for col in df_train_users.columns if df_train_users[col].isnull().sum() != 0]\n"
   ]
  },
  {
   "cell_type": "code",
   "execution_count": null,
   "metadata": {},
   "outputs": [],
   "source": [
    "# all_columns = all_users.columns.tolist()\n",
    "all_columns = df_train_users.columns.tolist()\n",
    "\n",
    "missing_counts = []\n",
    "for col in all_columns:\n",
    "    # count = all_users[col].isnull().sum() + all_users[col].eq('-unknown-').sum()\n",
    "    count = df_train_users[col].isnull().sum() + df_train_users[col].eq('-unknown-').sum()\n",
    "    if count > 0:\n",
    "        missing_counts.append((col, count))\n",
    "\n",
    "if missing_counts:\n",
    "    missing_counts = pd.DataFrame(missing_counts, columns=['column', 'count'])\n",
    "\n",
    "    plt.figure(figsize=(12, 6))\n",
    "    plt.bar(missing_counts['column'], missing_counts['count'])\n",
    "    plt.xticks(rotation=45)\n",
    "    plt.xlabel('Column')\n",
    "    plt.ylabel('Count')\n",
    "    plt.title('Missing Values per Column')\n",
    "    plt.show()\n",
    "else:\n",
    "    print(\"No columns with missing values found.\")"
   ]
  },
  {
   "cell_type": "markdown",
   "metadata": {},
   "source": [
    "Each of these columns and their missing or incompatible data needs to be addressed. Lets start with Gender!"
   ]
  },
  {
   "cell_type": "code",
   "execution_count": null,
   "metadata": {},
   "outputs": [],
   "source": [
    "# all_users.gender.value_counts()\n",
    "df_train_users.gender.value_counts()"
   ]
  },
  {
   "cell_type": "code",
   "execution_count": null,
   "metadata": {},
   "outputs": [],
   "source": [
    "# all_users.gender.replace('-unknown-', np.nan, inplace=True)\n",
    "# print(all_users.gender.value_counts())\n",
    "\n",
    "df_train_users.gender.replace('-unknown-', np.nan, inplace=True)\n",
    "print(df_train_users.gender.value_counts())\n",
    "\n",
    "plt.figure(figsize=(12, 6))\n",
    "# all_users.gender.value_counts().plot(kind='bar')\n",
    "df_train_users.gender.value_counts().plot(kind='bar')\n",
    "plt.xticks(rotation=45)\n",
    "plt.xlabel('Column')\n",
    "plt.ylabel('Count')\n",
    "plt.title('Gender of Users')\n",
    "plt.show()"
   ]
  },
  {
   "cell_type": "markdown",
   "metadata": {},
   "source": [
    "#### Entropy of OTHER gender?"
   ]
  },
  {
   "cell_type": "code",
   "execution_count": null,
   "metadata": {},
   "outputs": [],
   "source": [
    "plt.figure(figsize=(10,6))\n",
    "df_train_users.age.hist(bins=100)\n",
    "plt.title('Age Distribution')\n",
    "plt.xlabel('Age')\n",
    "plt.ylabel('Count')\n",
    "plt.show()"
   ]
  },
  {
   "cell_type": "markdown",
   "metadata": {},
   "source": [
    "We need to take care of the outrageously large ages, and with a bit of creative thinking along with the help of this notebook --> https://www.kaggle.com/code/kevinwu06/airbnb-exploratory-analysis/notebook, I will assume that the very large ages should represent birth years instead. This gives us more data to work with.\n",
    "\n",
    "Using 2010 as the reference year, as noted in the Airbnb Dataset Description, I changed the values of our users to be in a valid range of 16 to 100. Large values were converted from \"birth years\" to an appropriate age, and values below 16 and above 100 were changed to NaN."
   ]
  },
  {
   "cell_type": "code",
   "execution_count": null,
   "metadata": {},
   "outputs": [],
   "source": [
    "ages = df_train_users['age'].copy()\n",
    "\n",
    "ref_year = 2010 # \"...users dataset dates back to 2010.\"\n",
    "ages[(ages >= 1910) & (ages <= 1994)] = ref_year - ages[(ages >= 1910) & (ages <= 1994)]\n",
    "ages[(ages < 16) | (ages > 100)] = np.nan\n",
    "\n",
    "plt.figure(figsize=(10,6))\n",
    "ages.hist(bins=100)\n",
    "plt.title('Age Distribution')\n",
    "plt.xlabel('Age')\n",
    "plt.ylabel('Count')\n",
    "plt.show()\n",
    "\n",
    "print(ages.describe())\n",
    "\n",
    "# replacing orginal age column with cleaned age column\n",
    "df_train_users['age'] = ages"
   ]
  },
  {
   "cell_type": "markdown",
   "metadata": {},
   "source": [
    "### optional idea for missing age data, look into predictive imputation"
   ]
  },
  {
   "cell_type": "code",
   "execution_count": null,
   "metadata": {},
   "outputs": [],
   "source": [
    "middle_age = 36\n",
    "\n",
    "plt.figure(figsize=(20,12))\n",
    "bar_width = 0.35\n",
    "\n",
    "young_travelers = sum(df_train_users.loc[df_train_users['age'] < middle_age, 'country_destination'].value_counts())\n",
    "old_travelers = sum(df_train_users.loc[df_train_users['age'] > middle_age, 'country_destination'].value_counts())\n",
    "\n",
    "young_dest = df_train_users.loc[df_train_users['age'] < middle_age, 'country_destination'].value_counts() / young_travelers * 100\n",
    "old_dest = df_train_users.loc[df_train_users['age'] > middle_age, 'country_destination'].value_counts() / old_travelers * 100\n",
    "\n",
    "young_dest.plot(kind='bar', width=bar_width, position=0, label='Young Travelers', color='#009E73')\n",
    "old_dest.plot(kind='bar', width=bar_width, position=1, label='Older Travelers', color='#CC79A7')\n",
    "\n",
    "\n",
    "plt.legend()\n",
    "plt.title('Older vs. Younger Country Destination Percentages')\n",
    "plt.xlabel('Destination Country')\n",
    "x_ticks = range(len(young_dest.index))\n",
    "plt.xticks(rotation=45)\n",
    "plt.ylabel('Percentage')\n",
    "plt.subplots_adjust(bottom=0.2)\n",
    "plt.show()"
   ]
  },
  {
   "cell_type": "markdown",
   "metadata": {},
   "source": [
    "### K-Means"
   ]
  },
  {
   "cell_type": "code",
   "execution_count": 22,
   "metadata": {},
   "outputs": [
    {
     "name": "stdout",
     "output_type": "stream",
     "text": [
      "date_account_created            0\n",
      "timestamp_first_active          0\n",
      "date_first_booking         124543\n",
      "gender                          0\n",
      "age                         87990\n",
      "signup_method                   0\n",
      "signup_flow                     0\n",
      "language                        0\n",
      "affiliate_channel               0\n",
      "affiliate_provider              0\n",
      "first_affiliate_tracked      6065\n",
      "signup_app                      0\n",
      "first_device_type               0\n",
      "first_browser                   0\n",
      "country_destination             0\n",
      "dtype: int64\n"
     ]
    }
   ],
   "source": [
    "df_train_users.drop(columns='id', inplace=True)\n",
    "\n",
    "print(df_train_users.isnull().sum())"
   ]
  },
  {
   "cell_type": "code",
   "execution_count": 23,
   "metadata": {},
   "outputs": [
    {
     "name": "stdout",
     "output_type": "stream",
     "text": [
      "date_first_booking has 58.34734904029496% missing values\n",
      "age has 41.222575673105304% missing values\n",
      "first_affiliate_tracked has 2.84140153946339% missing values\n"
     ]
    }
   ],
   "source": [
    "print(f'date_first_booking has {(df_train_users.date_first_booking.isnull().sum()/len(df_train_users))*100}% missing values')\n",
    "print(f'age has {(df_train_users.age.isnull().sum()/len(df_train_users))*100}% missing values')\n",
    "print(f'first_affiliate_tracked has {(df_train_users.first_affiliate_tracked.isnull().sum()/len(df_train_users))*100}% missing values')"
   ]
  },
  {
   "cell_type": "code",
   "execution_count": 24,
   "metadata": {},
   "outputs": [
    {
     "name": "stdout",
     "output_type": "stream",
     "text": [
      "date_account_created\n",
      "2014-05-13    674\n",
      "2014-06-24    670\n",
      "2014-06-25    636\n",
      "2014-05-20    632\n",
      "2014-05-14    622\n",
      "             ... \n",
      "2010-03-09      1\n",
      "2010-01-28      1\n",
      "2010-01-31      1\n",
      "2010-04-11      1\n",
      "2010-06-18      1\n",
      "Name: count, Length: 1634, dtype: int64\n",
      "timestamp_first_active\n",
      "20090319043255    1\n",
      "20140115183807    1\n",
      "20140115225909    1\n",
      "20140115230241    1\n",
      "20140115230335    1\n",
      "                 ..\n",
      "20130415234245    1\n",
      "20130415234440    1\n",
      "20130415234724    1\n",
      "20130415235636    1\n",
      "20140630235824    1\n",
      "Name: count, Length: 213451, dtype: int64\n",
      "date_first_booking\n",
      "2014-05-22    248\n",
      "2014-06-11    231\n",
      "2014-06-24    226\n",
      "2014-05-21    225\n",
      "2014-06-10    223\n",
      "             ... \n",
      "2010-01-31      1\n",
      "2010-02-09      1\n",
      "2010-06-10      1\n",
      "2010-02-04      1\n",
      "2015-06-28      1\n",
      "Name: count, Length: 1976, dtype: int64\n",
      "gender\n",
      "-unknown-    95688\n",
      "FEMALE       63041\n",
      "MALE         54440\n",
      "OTHER          282\n",
      "Name: count, dtype: int64\n",
      "age\n",
      "30.0      6124\n",
      "31.0      6016\n",
      "29.0      5963\n",
      "28.0      5939\n",
      "32.0      5855\n",
      "          ... \n",
      "1925.0       1\n",
      "1935.0       1\n",
      "1933.0       1\n",
      "112.0        1\n",
      "1926.0       1\n",
      "Name: count, Length: 127, dtype: int64\n",
      "signup_method\n",
      "basic       152897\n",
      "facebook     60008\n",
      "google         546\n",
      "Name: count, dtype: int64\n",
      "signup_flow\n",
      "0     164739\n",
      "25     14659\n",
      "12      9329\n",
      "3       8822\n",
      "2       6881\n",
      "24      4328\n",
      "23      2835\n",
      "1       1047\n",
      "6        301\n",
      "8        240\n",
      "21       196\n",
      "5         36\n",
      "20        14\n",
      "16        11\n",
      "15        10\n",
      "10         2\n",
      "4          1\n",
      "Name: count, dtype: int64\n",
      "language\n",
      "en    206314\n",
      "zh      1632\n",
      "fr      1172\n",
      "es       915\n",
      "ko       747\n",
      "de       732\n",
      "it       514\n",
      "ru       389\n",
      "pt       240\n",
      "ja       225\n",
      "sv       122\n",
      "nl        97\n",
      "tr        64\n",
      "da        58\n",
      "pl        54\n",
      "cs        32\n",
      "no        30\n",
      "el        24\n",
      "th        24\n",
      "id        22\n",
      "hu        18\n",
      "fi        14\n",
      "ca         5\n",
      "is         5\n",
      "hr         2\n",
      "Name: count, dtype: int64\n",
      "affiliate_channel\n",
      "direct           137727\n",
      "sem-brand         26045\n",
      "sem-non-brand     18844\n",
      "other              8961\n",
      "seo                8663\n",
      "api                8167\n",
      "content            3948\n",
      "remarketing        1096\n",
      "Name: count, dtype: int64\n",
      "affiliate_provider\n",
      "direct                 137426\n",
      "google                  51693\n",
      "other                   12549\n",
      "craigslist               3471\n",
      "bing                     2328\n",
      "facebook                 2273\n",
      "vast                      829\n",
      "padmapper                 768\n",
      "facebook-open-graph       545\n",
      "yahoo                     496\n",
      "gsp                       453\n",
      "meetup                    347\n",
      "email-marketing           166\n",
      "naver                      52\n",
      "baidu                      29\n",
      "yandex                     17\n",
      "wayn                        8\n",
      "daum                        1\n",
      "Name: count, dtype: int64\n",
      "first_affiliate_tracked\n",
      "untracked        109232\n",
      "linked            46287\n",
      "omg               43982\n",
      "tracked-other      6156\n",
      "product            1556\n",
      "marketing           139\n",
      "local ops            34\n",
      "Name: count, dtype: int64\n",
      "signup_app\n",
      "Web        182717\n",
      "iOS         19019\n",
      "Moweb        6261\n",
      "Android      5454\n",
      "Name: count, dtype: int64\n",
      "first_device_type\n",
      "Mac Desktop           89600\n",
      "Windows Desktop       72716\n",
      "iPhone                20759\n",
      "iPad                  14339\n",
      "Other/Unknown         10667\n",
      "Android Phone          2803\n",
      "Android Tablet         1292\n",
      "Desktop (Other)        1199\n",
      "SmartPhone (Other)       76\n",
      "Name: count, dtype: int64\n",
      "first_browser\n",
      "Chrome                  63845\n",
      "Safari                  45169\n",
      "Firefox                 33655\n",
      "-unknown-               27266\n",
      "IE                      21068\n",
      "Mobile Safari           19274\n",
      "Chrome Mobile            1270\n",
      "Android Browser           851\n",
      "AOL Explorer              245\n",
      "Opera                     188\n",
      "Silk                      124\n",
      "Chromium                   73\n",
      "BlackBerry Browser         53\n",
      "Maxthon                    46\n",
      "IE Mobile                  36\n",
      "Apple Mail                 36\n",
      "Sogou Explorer             33\n",
      "Mobile Firefox             30\n",
      "SiteKiosk                  24\n",
      "RockMelt                   24\n",
      "Iron                       17\n",
      "IceWeasel                  13\n",
      "Pale Moon                  12\n",
      "SeaMonkey                  11\n",
      "CometBird                  11\n",
      "Yandex.Browser             11\n",
      "Camino                      9\n",
      "TenFourFox                  8\n",
      "CoolNovo                    6\n",
      "wOSBrowser                  6\n",
      "Avant Browser               4\n",
      "Opera Mini                  4\n",
      "Mozilla                     3\n",
      "TheWorld Browser            2\n",
      "Flock                       2\n",
      "Comodo Dragon               2\n",
      "OmniWeb                     2\n",
      "SlimBrowser                 2\n",
      "Crazy Browser               2\n",
      "Opera Mobile                2\n",
      "Epic                        1\n",
      "Stainless                   1\n",
      "Googlebot                   1\n",
      "Outlook 2007                1\n",
      "Arora                       1\n",
      "NetNewsWire                 1\n",
      "PS Vita browser             1\n",
      "Google Earth                1\n",
      "Conkeror                    1\n",
      "Kindle Browser              1\n",
      "Palm Pre web browser        1\n",
      "IceDragon                   1\n",
      "Name: count, dtype: int64\n",
      "country_destination\n",
      "NDF      124543\n",
      "US        62376\n",
      "other     10094\n",
      "FR         5023\n",
      "IT         2835\n",
      "GB         2324\n",
      "ES         2249\n",
      "CA         1428\n",
      "DE         1061\n",
      "NL          762\n",
      "AU          539\n",
      "PT          217\n",
      "Name: count, dtype: int64\n"
     ]
    }
   ],
   "source": [
    "for col in df_train_users.columns:\n",
    "    print(df_train_users[col].value_counts())"
   ]
  },
  {
   "cell_type": "markdown",
   "metadata": {},
   "source": [
    "predictive imputation for missing age data"
   ]
  },
  {
   "cell_type": "code",
   "execution_count": 25,
   "metadata": {},
   "outputs": [
    {
     "name": "stdout",
     "output_type": "stream",
     "text": [
      "age has 0.0% missing values\n"
     ]
    }
   ],
   "source": [
    "from sklearn.linear_model import LinearRegression\n",
    "\n",
    "df_process = df_train_users[['age', 'gender', 'signup_method', 'timestamp_first_active']].copy()\n",
    "current_year = 2014\n",
    "\n",
    "\n",
    "def preprocess_data(df):\n",
    "    def correct_age(age):\n",
    "        if age > 1000:\n",
    "            return current_year - age\n",
    "        elif age > 110:\n",
    "            return 0\n",
    "        return age\n",
    "    \n",
    "    df['age'] = df['age'].apply(correct_age)\n",
    "    \n",
    "    df['timestamp_first_active'] = pd.to_datetime(df['timestamp_first_active'], format='%Y%m%d%H%M%S')\n",
    "    \n",
    "    df['year_first_active'] = df['timestamp_first_active'].dt.year\n",
    "    df['month_first_active'] = df['timestamp_first_active'].dt.month\n",
    "    df['day_first_active'] = df['timestamp_first_active'].dt.day\n",
    "    df['hour_first_active'] = df['timestamp_first_active'].dt.hour\n",
    "    \n",
    "    df.drop('timestamp_first_active', axis=1, inplace=True)\n",
    "    \n",
    "    categorical_features = ['gender', 'signup_method']\n",
    "    df_categorical = pd.get_dummies(df[categorical_features], drop_first=True)\n",
    "    \n",
    "    df_processed = pd.concat([df[['year_first_active', 'month_first_active', 'day_first_active', 'hour_first_active']], df_categorical], axis=1)\n",
    "    \n",
    "    if 'age' in df.columns:\n",
    "        df_processed['age'] = df['age']\n",
    "    \n",
    "    return df_processed\n",
    "\n",
    "df_processed = preprocess_data(df_process)\n",
    "\n",
    "# print(df_processed.columns)\n",
    "\n",
    "train_data = df_processed[df_processed['age'].notnull()]\n",
    "predict_data = df_processed[df_processed['age'].isnull()]\n",
    "\n",
    "regressor = LinearRegression()\n",
    "regressor.fit(train_data.drop('age', axis=1), train_data['age'])\n",
    "\n",
    "predicted_ages = regressor.predict(predict_data.drop('age', axis=1))\n",
    "\n",
    "predicted_ages_rounded = np.round(predicted_ages).astype(int)\n",
    "\n",
    "df_process.loc[df_process['age'].isnull(), 'age'] = predicted_ages_rounded\n",
    "\n",
    "# value_counts_corrected = df_process['age'].value_counts().sort_index()\n",
    "# print(value_counts_corrected)\n",
    "\n",
    "df_train_users['age'] = df_process['age']\n",
    "print(f'age has {(df_train_users.age.isnull().sum()/len(df_train_users))*100}% missing values')"
   ]
  },
  {
   "cell_type": "code",
   "execution_count": 26,
   "metadata": {},
   "outputs": [
    {
     "name": "stdout",
     "output_type": "stream",
     "text": [
      "gender\n",
      "4    95688\n",
      "1    63041\n",
      "0    54440\n",
      "2      282\n",
      "Name: count, dtype: int64\n"
     ]
    }
   ],
   "source": [
    "gender_code = df_train_users['gender'].copy()\n",
    "\n",
    "# replace gender categories with numeric codes\n",
    "def gender_mapping(gender):\n",
    "    if gender == 'MALE':\n",
    "        return 0\n",
    "    elif gender == 'FEMALE':\n",
    "        return 1\n",
    "    elif gender == 'OTHER':\n",
    "        return 2\n",
    "    else:\n",
    "        return 4\n",
    "    \n",
    "# apply mapping\n",
    "gender_code = gender_code.apply(gender_mapping)\n",
    "\n",
    "# verify changes\n",
    "print(gender_code.value_counts())\n",
    "\n",
    "# overwrite column\n",
    "df_train_users['gender'] = gender_code"
   ]
  },
  {
   "cell_type": "markdown",
   "metadata": {},
   "source": [
    "#### Handling missing values for first_affiliate_tracked column\n",
    "changed NaN to untracked"
   ]
  },
  {
   "cell_type": "code",
   "execution_count": 27,
   "metadata": {},
   "outputs": [],
   "source": [
    "df_train_users['first_affiliate_tracked'].fillna('untracked', inplace=True)"
   ]
  },
  {
   "cell_type": "markdown",
   "metadata": {},
   "source": [
    "#### At this point, date_first_booking is the only column with missing data, and because it is missing such a large portion (nearly 60%), I think the best decision is to not include it in the training of the K-Means algorithm."
   ]
  },
  {
   "cell_type": "code",
   "execution_count": 28,
   "metadata": {},
   "outputs": [
    {
     "data": {
      "text/plain": [
       "date_account_created       datetime64[ns]\n",
       "timestamp_first_active              int64\n",
       "gender                              int64\n",
       "age                               float64\n",
       "signup_method                      object\n",
       "signup_flow                         int64\n",
       "language                           object\n",
       "affiliate_channel                  object\n",
       "affiliate_provider                 object\n",
       "first_affiliate_tracked            object\n",
       "signup_app                         object\n",
       "first_device_type                  object\n",
       "first_browser                      object\n",
       "country_destination                object\n",
       "dtype: object"
      ]
     },
     "execution_count": 28,
     "metadata": {},
     "output_type": "execute_result"
    }
   ],
   "source": [
    "df_train_users['date_account_created'] = pd.to_datetime(df_train_users['date_account_created'])\n",
    "df_train_users['date_first_booking'] = pd.to_datetime(df_train_users['date_first_booking'])\n",
    "\n",
    "df_train_users.drop(columns='date_first_booking', inplace=True)\n",
    "\n",
    "df_train_users.dtypes"
   ]
  },
  {
   "cell_type": "markdown",
   "metadata": {},
   "source": [
    "#### encoding"
   ]
  },
  {
   "cell_type": "code",
   "execution_count": 29,
   "metadata": {},
   "outputs": [
    {
     "name": "stdout",
     "output_type": "stream",
     "text": [
      "<class 'pandas.core.frame.DataFrame'>\n",
      "RangeIndex: 213451 entries, 0 to 213450\n",
      "Columns: 134 entries, date_account_created to country_destination_other\n",
      "dtypes: bool(129), datetime64[ns](1), float64(1), int64(3)\n",
      "memory usage: 34.4 MB\n"
     ]
    },
    {
     "data": {
      "text/plain": [
       "date_account_created         datetime64[ns]\n",
       "timestamp_first_active                int64\n",
       "gender                                int64\n",
       "age                                 float64\n",
       "signup_flow                           int64\n",
       "                                  ...      \n",
       "country_destination_NDF                bool\n",
       "country_destination_NL                 bool\n",
       "country_destination_PT                 bool\n",
       "country_destination_US                 bool\n",
       "country_destination_other              bool\n",
       "Length: 134, dtype: object"
      ]
     },
     "execution_count": 29,
     "metadata": {},
     "output_type": "execute_result"
    }
   ],
   "source": [
    "categorical_features = df_train_users.select_dtypes(include='object').columns\n",
    "\n",
    "df_encoded = pd.get_dummies(df_train_users, columns=categorical_features, drop_first=True)\n",
    "df_encoded.info()\n",
    "\n",
    "df_encoded.dtypes"
   ]
  },
  {
   "cell_type": "code",
   "execution_count": 30,
   "metadata": {},
   "outputs": [],
   "source": [
    "# extract numerical features for date_account_created\n",
    "df_encoded['dac_year'] =df_encoded['date_account_created'].dt.year\n",
    "df_encoded['dac_month'] =df_encoded['date_account_created'].dt.month\n",
    "df_encoded['dac_day'] = df_encoded['date_account_created'].dt.day\n",
    "# df_encoded['dfb_year'] =df_encoded['date_first_booking'].dt.year\n",
    "# df_encoded['dfb_month'] =df_encoded['date_first_booking'].dt.month\n",
    "# df_encoded['dfb_day'] = df_encoded['date_first_booking'].dt.day\n",
    "\n",
    "# drop\n",
    "df_encoded.drop(['date_account_created'], axis=1, inplace=True)\n"
   ]
  },
  {
   "cell_type": "markdown",
   "metadata": {},
   "source": [
    "#### scale"
   ]
  },
  {
   "cell_type": "code",
   "execution_count": 31,
   "metadata": {},
   "outputs": [],
   "source": [
    "from sklearn.preprocessing import StandardScaler\n",
    "\n",
    "scaler = StandardScaler()\n",
    "df_scaled = scaler.fit_transform(df_encoded)"
   ]
  },
  {
   "cell_type": "markdown",
   "metadata": {},
   "source": [
    "#### dimensionality reduction"
   ]
  },
  {
   "cell_type": "code",
   "execution_count": 32,
   "metadata": {},
   "outputs": [],
   "source": [
    "from sklearn.decomposition import PCA\n",
    "\n",
    "pca = PCA(0.95)\n",
    "df_pca = pca.fit_transform(df_scaled)"
   ]
  },
  {
   "cell_type": "markdown",
   "metadata": {},
   "source": [
    "download joblib for parallelization! otherwise, running this cell will be long than 39 minutes. This ran for 39 minutes at 100% CPU utilization."
   ]
  },
  {
   "cell_type": "code",
   "execution_count": 33,
   "metadata": {},
   "outputs": [
    {
     "name": "stdout",
     "output_type": "stream",
     "text": [
      "For k=2, silhouette score: 0.13795305175225173\n",
      "For k=3, silhouette score: 0.1363189492134608\n",
      "For k=4, silhouette score: 0.15690540243320866\n",
      "For k=5, silhouette score: 0.013514125906811765\n",
      "For k=6, silhouette score: 0.04313903039296689\n",
      "For k=7, silhouette score: 0.08577328050512394\n",
      "For k=8, silhouette score: 0.13915152538761394\n",
      "For k=9, silhouette score: 0.049934701738750385\n",
      "For k=10, silhouette score: 0.08178290285558168\n"
     ]
    }
   ],
   "source": [
    "from sklearn.cluster import MiniBatchKMeans\n",
    "from sklearn.metrics import silhouette_score\n",
    "from joblib import Parallel, delayed\n",
    "\n",
    "# Function to fit MiniBatchKMeans and compute silhouette score\n",
    "def compute_silhouette(df_pca, k):\n",
    "    kmeans = MiniBatchKMeans(n_clusters=k, random_state=716, batch_size=1000)\n",
    "    kmeans.fit(df_pca)\n",
    "    score = silhouette_score(df_pca, kmeans.labels_)\n",
    "    print(f\"For k={k}, silhouette score: {score}\")\n",
    "    return score\n",
    "\n",
    "# List of k values to evaluate\n",
    "k_values = range(2, 11)\n",
    "\n",
    "# Parallel computation using joblib\n",
    "silhouette_scores = Parallel(n_jobs=-1)(delayed(compute_silhouette)(df_pca, k) for k in k_values)\n",
    "\n",
    "# Print silhouette scores\n",
    "for k, score in zip(k_values, silhouette_scores):\n",
    "    print(f\"For k={k}, silhouette score: {score}\")"
   ]
  },
  {
   "cell_type": "code",
   "execution_count": 34,
   "metadata": {},
   "outputs": [
    {
     "name": "stdout",
     "output_type": "stream",
     "text": [
      "Fitted MiniBatchKMeans model: MiniBatchKMeans(batch_size=5000, n_clusters=4, random_state=716)\n"
     ]
    }
   ],
   "source": [
    "def fit_kmeans(df_pca, k):\n",
    "    kmeans = MiniBatchKMeans(n_clusters=k, random_state=716, batch_size=5000)\n",
    "    kmeans.fit(df_pca)\n",
    "    return kmeans\n",
    "\n",
    "optimal_k = 4\n",
    "\n",
    "# n_jobs=-1 uses all CPU cores available\n",
    "kmeans_model = Parallel(n_jobs=-1)(delayed(fit_kmeans)(df_pca, optimal_k) for _ in range(1))[0] \n",
    "\n",
    "print(\"Fitted MiniBatchKMeans model:\", kmeans_model)"
   ]
  },
  {
   "cell_type": "code",
   "execution_count": 35,
   "metadata": {},
   "outputs": [],
   "source": [
    "# cluster centers\n",
    "cluster_centers = kmeans_model.cluster_centers_\n",
    "\n",
    "# cluster labels\n",
    "cluster_labels = kmeans_model.labels_\n",
    "\n",
    "df_train_users['cluster_label'] = cluster_labels"
   ]
  },
  {
   "cell_type": "markdown",
   "metadata": {},
   "source": [
    "#### visualize clusters"
   ]
  },
  {
   "cell_type": "code",
   "execution_count": 36,
   "metadata": {},
   "outputs": [
    {
     "data": {
      "image/png": "[encoded data removed]",
      "text/plain": [
       "<Figure size 576x432 with 2 Axes>"
      ]
     },
     "metadata": {},
     "output_type": "display_data"
    }
   ],
   "source": [
    "# Visualize clusters in PCA space\n",
    "plt.figure(figsize=(8, 6))\n",
    "plt.scatter(df_pca[:, 0], df_pca[:, 1], c=cluster_labels, cmap='viridis', alpha=0.5, label='Data points')\n",
    "plt.scatter(cluster_centers[:,0], cluster_centers[:,1], c='red', marker='X', label='Cluster Centers')\n",
    "plt.title('K-Means Clustering - PCA Visualization')\n",
    "plt.xlabel('PCA Component 1')\n",
    "plt.ylabel('PCA Component 2')\n",
    "plt.colorbar()\n",
    "plt.show()"
   ]
  },
  {
   "cell_type": "markdown",
   "metadata": {},
   "source": [
    "#### cluster analysis"
   ]
  }
 ],
 "metadata": {
  "kernelspec": {
   "display_name": "Python 3",
   "language": "python",
   "name": "python3"
  },
  "language_info": {
   "codemirror_mode": {
    "name": "ipython",
    "version": 3
   },
   "file_extension": ".py",
   "mimetype": "text/x-python",
   "name": "python",
   "nbconvert_exporter": "python",
   "pygments_lexer": "ipython3",
   "version": "3.10.2"
  }
 },
 "nbformat": 4,
 "nbformat_minor": 2
}
